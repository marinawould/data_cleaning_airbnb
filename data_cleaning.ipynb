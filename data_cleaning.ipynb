{
 "cells": [
  {
   "cell_type": "markdown",
   "id": "718793b7-d7ed-402b-9db7-afcad7ea3bbe",
   "metadata": {},
   "source": [
    "# Data Cleaning Challenge + Text Ananlysis"
   ]
  },
  {
   "cell_type": "markdown",
   "id": "8059d8a2-3343-4c7b-ae0c-d1ebf3a7d43f",
   "metadata": {},
   "source": [
    "This project is based on Airbnb Dataset from Kaggle (https://www.kaggle.com/datasets/arianazmoudeh/airbnbopendata) and consist of 2 parts. In the first part I will clean data for a descriptive analysis in part 2. Let's get crackin!"
   ]
  },
  {
   "cell_type": "code",
   "execution_count": 1,
   "id": "c59f781d-3a7a-4108-bb89-49a03dbaff33",
   "metadata": {},
   "outputs": [],
   "source": [
    "# loading packages\n",
    "from folium.plugins import MarkerCluster\n",
    "from IPython.display import HTML\n",
    "from textblob import TextBlob\n",
    "import folium\n",
    "from geopy.geocoders import Nominatim\n",
    "from IPython.display import IFrame\n",
    "import string\n",
    "import re\n",
    "from nltk.corpus import stopwords\n",
    "import pandas as pd\n",
    "import nltk\n",
    "from nltk.tokenize import word_tokenize\n",
    "from nltk.probability import FreqDist\n",
    "\n",
    "import datetime\n",
    "import missingno as msno\n",
    "from sklearn.preprocessing import MinMaxScaler\n",
    "from sklearn.metrics.pairwise import cosine_similarity\n",
    "\n",
    "from scipy.spatial import cKDTree \n",
    "import numpy as np\n",
    "import sys\n",
    "import warnings\n",
    "import seaborn as sns\n",
    "from haversine import haversine\n",
    "import matplotlib.pyplot as plt\n",
    "from scipy.spatial import distance\n",
    "if not sys.warnoptions:\n",
    "    warnings.simplefilter(\"ignore\")\n",
    "\n",
    "\n",
    "pd.options.display.max_colwidth = 1000\n",
    "pd.options.display.max_columns = 100\n",
    "pd.options.display.max_rows = 50000\n",
    "pd.set_option(\"display.precision\", 3)\n",
    "pd.set_option('display.float_format', lambda x: '%.5f' % x)\n",
    "\n",
    "import re\n",
    "from collections import Counter\n",
    "#######################################################\n",
    "def summarize_df(df,show_uniques=None):\n",
    "    \"\"\"\n",
    "    Summarizes pandas dataframe and checks:\n",
    "    \\n-unique values\\n-missing values\\n-dtypes\n",
    "    \\n-boolean for column names that contain 'id' permutations\n",
    "    \\n-column names that contains 'date' permutations and their corresponding date format\n",
    "    \\n-date formats\n",
    "    \\n-[optional] sampled (n=3) unique values\n",
    "    \\nIts output can serve as the partial input of the date_converter function!\n",
    "    \"\"\"\n",
    "    no_unique_values=df.apply(lambda column: len(column.unique()),axis=0).values\n",
    "    missing_values=df.apply(lambda column: 100-(len(column.dropna())/len(df))*100,axis=0).values\n",
    "    dtypes=[df[colname].drop_duplicates().apply(lambda cell: type(cell)).unique().tolist() for colname in df.columns]\n",
    "    id_cols=pd.Series(df.columns).str.contains('id|Id|ID|Id.|id.|ID.').values\n",
    "    df_summary=pd.DataFrame(\n",
    "        index=df.columns\n",
    "    )\n",
    "    df_summary['no_unique_values'],df_summary['missing_values(%)'],df_summary['dtypes'],df_summary['id_col']=no_unique_values,missing_values,dtypes,id_cols\n",
    "\n",
    "    date_fil=pd.Series(df_summary.index).str.contains('date|Date|time|Time|DATE').values\n",
    "    date_format=pd.Series(df_summary.loc[date_fil,:].index).apply(\n",
    "        lambda colname: df[colname].dropna().values[0] if len(df[colname].dropna())!=0 else np.nan\n",
    "    )\n",
    "    date_format.index=df_summary.loc[date_fil,:].index\n",
    "    df_summary['date_format']=pd.Series(df_summary.index).apply(\n",
    "        lambda colname: date_format[colname] if colname in date_format.index else np.nan\n",
    "    ).values\n",
    "    if show_uniques==True:\n",
    "        unique_values_sample=df.apply(\n",
    "            lambda column: ', '.join(list(map(str,column.dropna().unique().tolist()[:3]))) if len(column.dropna().unique())>0 else np.nan,axis=0\n",
    "        ).values\n",
    "        df_summary['unique_values_sample']=unique_values_sample\n",
    "    return df_summary"
   ]
  },
  {
   "cell_type": "markdown",
   "id": "9500d975-089d-4918-93fb-03cee2fe3333",
   "metadata": {},
   "source": [
    "## Part 1. Data Cleaning\n",
    "\n",
    "Let's take a first look at the data. It contains information about various properties listed for short-term rental, on a platform called Airbnb. It contains such details as ID, name, host information, location (neighbourhood, neighbourhood group, latitude, and longitude), booking details (instant bookable, cancellation policy, room type), pricing information, minimum nights stay, number of reviews, and other related details.\n",
    "\n",
    "The dataset includes both numerical and categorical data, providing a comprehensive view of each property's characteristics. Additionally, there are columns such as \"house_rules\" and \"license\" that contain specific rules for guests and information about the property's licensing."
   ]
  },
  {
   "cell_type": "code",
   "execution_count": 2,
   "id": "8f905548-d6a3-476d-8139-811c33e7f3b0",
   "metadata": {
    "tags": []
   },
   "outputs": [
    {
     "data": {
      "text/html": [
       "<div>\n",
       "<style scoped>\n",
       "    .dataframe tbody tr th:only-of-type {\n",
       "        vertical-align: middle;\n",
       "    }\n",
       "\n",
       "    .dataframe tbody tr th {\n",
       "        vertical-align: top;\n",
       "    }\n",
       "\n",
       "    .dataframe thead th {\n",
       "        text-align: right;\n",
       "    }\n",
       "</style>\n",
       "<table border=\"1\" class=\"dataframe\">\n",
       "  <thead>\n",
       "    <tr style=\"text-align: right;\">\n",
       "      <th></th>\n",
       "      <th>id</th>\n",
       "      <th>NAME</th>\n",
       "      <th>host id</th>\n",
       "      <th>host_identity_verified</th>\n",
       "      <th>host name</th>\n",
       "      <th>neighbourhood group</th>\n",
       "      <th>neighbourhood</th>\n",
       "      <th>lat</th>\n",
       "      <th>long</th>\n",
       "      <th>instant_bookable</th>\n",
       "      <th>cancellation_policy</th>\n",
       "      <th>room type</th>\n",
       "      <th>Construction year</th>\n",
       "      <th>price</th>\n",
       "      <th>service fee</th>\n",
       "      <th>minimum nights</th>\n",
       "      <th>number of reviews</th>\n",
       "      <th>last review</th>\n",
       "      <th>reviews per month</th>\n",
       "      <th>review rate number</th>\n",
       "      <th>calculated host listings count</th>\n",
       "      <th>availability 365</th>\n",
       "      <th>house_rules</th>\n",
       "      <th>license</th>\n",
       "    </tr>\n",
       "  </thead>\n",
       "  <tbody>\n",
       "    <tr>\n",
       "      <th>0</th>\n",
       "      <td>1001254</td>\n",
       "      <td>Clean &amp; quiet apt home by the park</td>\n",
       "      <td>80014485718</td>\n",
       "      <td>unconfirmed</td>\n",
       "      <td>Madaline</td>\n",
       "      <td>Brooklyn</td>\n",
       "      <td>Kensington</td>\n",
       "      <td>40.64749</td>\n",
       "      <td>-73.97237</td>\n",
       "      <td>False</td>\n",
       "      <td>strict</td>\n",
       "      <td>Private room</td>\n",
       "      <td>2020.00000</td>\n",
       "      <td>$966</td>\n",
       "      <td>$193</td>\n",
       "      <td>10.00000</td>\n",
       "      <td>9.00000</td>\n",
       "      <td>10/19/2021</td>\n",
       "      <td>0.21000</td>\n",
       "      <td>4.00000</td>\n",
       "      <td>6.00000</td>\n",
       "      <td>286.00000</td>\n",
       "      <td>Clean up and treat the home the way you'd like your home to be treated.  No smoking.</td>\n",
       "      <td>NaN</td>\n",
       "    </tr>\n",
       "    <tr>\n",
       "      <th>1</th>\n",
       "      <td>1002102</td>\n",
       "      <td>Skylit Midtown Castle</td>\n",
       "      <td>52335172823</td>\n",
       "      <td>verified</td>\n",
       "      <td>Jenna</td>\n",
       "      <td>Manhattan</td>\n",
       "      <td>Midtown</td>\n",
       "      <td>40.75362</td>\n",
       "      <td>-73.98377</td>\n",
       "      <td>False</td>\n",
       "      <td>moderate</td>\n",
       "      <td>Entire home/apt</td>\n",
       "      <td>2007.00000</td>\n",
       "      <td>$142</td>\n",
       "      <td>$28</td>\n",
       "      <td>30.00000</td>\n",
       "      <td>45.00000</td>\n",
       "      <td>5/21/2022</td>\n",
       "      <td>0.38000</td>\n",
       "      <td>4.00000</td>\n",
       "      <td>2.00000</td>\n",
       "      <td>228.00000</td>\n",
       "      <td>Pet friendly but please confirm with me if the pet you are planning on bringing with you is OK. I have a cute and quiet mixed chihuahua. I could accept more guests (for an extra fee) but this also needs to be confirmed beforehand. Also friends traveling together could sleep in separate beds for an extra fee (the second bed is either a sofa bed or inflatable bed). Smoking is only allowed on the porch.</td>\n",
       "      <td>NaN</td>\n",
       "    </tr>\n",
       "    <tr>\n",
       "      <th>2</th>\n",
       "      <td>1002403</td>\n",
       "      <td>THE VILLAGE OF HARLEM....NEW YORK !</td>\n",
       "      <td>78829239556</td>\n",
       "      <td>NaN</td>\n",
       "      <td>Elise</td>\n",
       "      <td>Manhattan</td>\n",
       "      <td>Harlem</td>\n",
       "      <td>40.80902</td>\n",
       "      <td>-73.94190</td>\n",
       "      <td>True</td>\n",
       "      <td>flexible</td>\n",
       "      <td>Private room</td>\n",
       "      <td>2005.00000</td>\n",
       "      <td>$620</td>\n",
       "      <td>$124</td>\n",
       "      <td>3.00000</td>\n",
       "      <td>0.00000</td>\n",
       "      <td>NaN</td>\n",
       "      <td>NaN</td>\n",
       "      <td>5.00000</td>\n",
       "      <td>1.00000</td>\n",
       "      <td>352.00000</td>\n",
       "      <td>I encourage you to use my kitchen, cooking and laundry facilities. There is no additional charge to use the washer/dryer in the basement.  No smoking, inside or outside. Come home as late as you want.  If you come home stumbling drunk, it's OK the first time. If you do it again, and you wake up me or the neighbors downstairs, we will be annoyed.  (Just so you know . . . )</td>\n",
       "      <td>NaN</td>\n",
       "    </tr>\n",
       "    <tr>\n",
       "      <th>3</th>\n",
       "      <td>1002755</td>\n",
       "      <td>NaN</td>\n",
       "      <td>85098326012</td>\n",
       "      <td>unconfirmed</td>\n",
       "      <td>Garry</td>\n",
       "      <td>Brooklyn</td>\n",
       "      <td>Clinton Hill</td>\n",
       "      <td>40.68514</td>\n",
       "      <td>-73.95976</td>\n",
       "      <td>True</td>\n",
       "      <td>moderate</td>\n",
       "      <td>Entire home/apt</td>\n",
       "      <td>2005.00000</td>\n",
       "      <td>$368</td>\n",
       "      <td>$74</td>\n",
       "      <td>30.00000</td>\n",
       "      <td>270.00000</td>\n",
       "      <td>7/5/2019</td>\n",
       "      <td>4.64000</td>\n",
       "      <td>4.00000</td>\n",
       "      <td>1.00000</td>\n",
       "      <td>322.00000</td>\n",
       "      <td>NaN</td>\n",
       "      <td>NaN</td>\n",
       "    </tr>\n",
       "    <tr>\n",
       "      <th>4</th>\n",
       "      <td>1003689</td>\n",
       "      <td>Entire Apt: Spacious Studio/Loft by central park</td>\n",
       "      <td>92037596077</td>\n",
       "      <td>verified</td>\n",
       "      <td>Lyndon</td>\n",
       "      <td>Manhattan</td>\n",
       "      <td>East Harlem</td>\n",
       "      <td>40.79851</td>\n",
       "      <td>-73.94399</td>\n",
       "      <td>False</td>\n",
       "      <td>moderate</td>\n",
       "      <td>Entire home/apt</td>\n",
       "      <td>2009.00000</td>\n",
       "      <td>$204</td>\n",
       "      <td>$41</td>\n",
       "      <td>10.00000</td>\n",
       "      <td>9.00000</td>\n",
       "      <td>11/19/2018</td>\n",
       "      <td>0.10000</td>\n",
       "      <td>3.00000</td>\n",
       "      <td>1.00000</td>\n",
       "      <td>289.00000</td>\n",
       "      <td>Please no smoking in the house, porch or on the property (you can go to the nearby corner).  Reasonable quiet after 10:30 pm.  Please remove shoes in the house.</td>\n",
       "      <td>NaN</td>\n",
       "    </tr>\n",
       "  </tbody>\n",
       "</table>\n",
       "</div>"
      ],
      "text/plain": [
       "        id                                              NAME      host id  \\\n",
       "0  1001254                Clean & quiet apt home by the park  80014485718   \n",
       "1  1002102                             Skylit Midtown Castle  52335172823   \n",
       "2  1002403               THE VILLAGE OF HARLEM....NEW YORK !  78829239556   \n",
       "3  1002755                                               NaN  85098326012   \n",
       "4  1003689  Entire Apt: Spacious Studio/Loft by central park  92037596077   \n",
       "\n",
       "  host_identity_verified host name neighbourhood group neighbourhood      lat  \\\n",
       "0            unconfirmed  Madaline            Brooklyn    Kensington 40.64749   \n",
       "1               verified     Jenna           Manhattan       Midtown 40.75362   \n",
       "2                    NaN     Elise           Manhattan        Harlem 40.80902   \n",
       "3            unconfirmed     Garry            Brooklyn  Clinton Hill 40.68514   \n",
       "4               verified    Lyndon           Manhattan   East Harlem 40.79851   \n",
       "\n",
       "       long instant_bookable cancellation_policy        room type  \\\n",
       "0 -73.97237            False              strict     Private room   \n",
       "1 -73.98377            False            moderate  Entire home/apt   \n",
       "2 -73.94190             True            flexible     Private room   \n",
       "3 -73.95976             True            moderate  Entire home/apt   \n",
       "4 -73.94399            False            moderate  Entire home/apt   \n",
       "\n",
       "   Construction year  price service fee  minimum nights  number of reviews  \\\n",
       "0         2020.00000  $966        $193         10.00000            9.00000   \n",
       "1         2007.00000  $142         $28         30.00000           45.00000   \n",
       "2         2005.00000  $620        $124          3.00000            0.00000   \n",
       "3         2005.00000  $368         $74         30.00000          270.00000   \n",
       "4         2009.00000  $204         $41         10.00000            9.00000   \n",
       "\n",
       "  last review  reviews per month  review rate number  \\\n",
       "0  10/19/2021            0.21000             4.00000   \n",
       "1   5/21/2022            0.38000             4.00000   \n",
       "2         NaN                NaN             5.00000   \n",
       "3    7/5/2019            4.64000             4.00000   \n",
       "4  11/19/2018            0.10000             3.00000   \n",
       "\n",
       "   calculated host listings count  availability 365  \\\n",
       "0                         6.00000         286.00000   \n",
       "1                         2.00000         228.00000   \n",
       "2                         1.00000         352.00000   \n",
       "3                         1.00000         322.00000   \n",
       "4                         1.00000         289.00000   \n",
       "\n",
       "                                                                                                                                                                                                                                                                                                                                                                                                           house_rules  \\\n",
       "0                                                                                                                                                                                                                                                                                                                                 Clean up and treat the home the way you'd like your home to be treated.  No smoking.   \n",
       "1  Pet friendly but please confirm with me if the pet you are planning on bringing with you is OK. I have a cute and quiet mixed chihuahua. I could accept more guests (for an extra fee) but this also needs to be confirmed beforehand. Also friends traveling together could sleep in separate beds for an extra fee (the second bed is either a sofa bed or inflatable bed). Smoking is only allowed on the porch.   \n",
       "2                               I encourage you to use my kitchen, cooking and laundry facilities. There is no additional charge to use the washer/dryer in the basement.  No smoking, inside or outside. Come home as late as you want.  If you come home stumbling drunk, it's OK the first time. If you do it again, and you wake up me or the neighbors downstairs, we will be annoyed.  (Just so you know . . . )   \n",
       "3                                                                                                                                                                                                                                                                                                                                                                                                                  NaN   \n",
       "4                                                                                                                                                                                                                                                     Please no smoking in the house, porch or on the property (you can go to the nearby corner).  Reasonable quiet after 10:30 pm.  Please remove shoes in the house.   \n",
       "\n",
       "  license  \n",
       "0     NaN  \n",
       "1     NaN  \n",
       "2     NaN  \n",
       "3     NaN  \n",
       "4     NaN  "
      ]
     },
     "execution_count": 2,
     "metadata": {},
     "output_type": "execute_result"
    }
   ],
   "source": [
    "df = pd.read_csv(\"Airbnb_Open_Data.csv\", low_memory = False, error_bad_lines=False)\n",
    "# only us observations, useless column\n",
    "del df['country']\n",
    "del df['country code']\n",
    "df.head(5)"
   ]
  },
  {
   "cell_type": "markdown",
   "id": "6a1a71ae-557d-45f8-9d7c-5ca344295bc0",
   "metadata": {},
   "source": [
    "### Handling full duplicates\n",
    "\n",
    "Let's calculate how many rows in dataset are full duplicates of each other. It is about 1 %, so we can just drop  these rows."
   ]
  },
  {
   "cell_type": "code",
   "execution_count": 3,
   "id": "614ae4de-5bdc-4bf6-a234-3ca5aa5cf476",
   "metadata": {
    "tags": []
   },
   "outputs": [
    {
     "name": "stdout",
     "output_type": "stream",
     "text": [
      "Duplicate rows, %: 1.0545911753525863\n"
     ]
    }
   ],
   "source": [
    "duplicates_id = df[df.duplicated(keep=False)]\n",
    "print('Duplicate rows, %:', (duplicates_id.shape[0]/df.shape[0])*100)"
   ]
  },
  {
   "cell_type": "code",
   "execution_count": 4,
   "id": "e6df3135-985a-4a24-ab95-8d630a3003ed",
   "metadata": {
    "tags": []
   },
   "outputs": [],
   "source": [
    "df = df.sort_values(by='id', ascending=False)\n",
    "df = df.drop_duplicates(keep='first')"
   ]
  },
  {
   "cell_type": "markdown",
   "id": "575a16e0-9617-4801-8238-d5a29d800738",
   "metadata": {},
   "source": [
    "### Taking a deeper look at the data, handling NAs and data cleaning\n",
    "\n",
    "Let's do a descriptive statistcs of the data and also build a graph that will depict where the NAs are in dataset. \n",
    "\n",
    "The dataset comprises 102,058 rows and 24 columns, each representing specific details about properties listed for short-term rental. Notable statistics include:\n",
    "\n",
    "- **No. of Unique Values:**\n",
    "  - The 'id' column has 102,058 unique values, ensuring each entry is distinct.\n",
    "  - 'host_id' has 61,282 unique values, indicating diverse property ownership.\n",
    "  \n",
    "- **Missing Values (%):**\n",
    "  - Some columns have minimal or no missing values, while 'license' exhibits a high percentage (50.8%), suggesting substantial data gaps.\n",
    "\n",
    "- **Data Types:**\n",
    "  - 'id' is of integer type, while 'name' and 'host_id' are a combination of strings and floats.\n",
    "  - Various columns feature boolean, string, and float data types.\n",
    "\n",
    "- **Identity Check:**\n",
    "  - 'id_col' identifies 'id' as a unique identifier column.\n",
    "  \n",
    "- **Sample Unique Values:**\n",
    "  - Examples of unique values include specific 'id' numbers, property names, 'host_id' numbers, and verification statuses.\n",
    "\n",
    "Regarding the distribution of NAs in the data, they are located in different data rows, so we can't just drop them entirely, they need to be explored more deeply. "
   ]
  },
  {
   "cell_type": "code",
   "execution_count": 5,
   "id": "dfdd39b7-8879-425d-8e44-8ea2e7d6f24e",
   "metadata": {
    "tags": []
   },
   "outputs": [
    {
     "name": "stdout",
     "output_type": "stream",
     "text": [
      "Number of rows: 102058\n",
      "Number of columns: 24\n"
     ]
    },
    {
     "data": {
      "text/html": [
       "<div>\n",
       "<style scoped>\n",
       "    .dataframe tbody tr th:only-of-type {\n",
       "        vertical-align: middle;\n",
       "    }\n",
       "\n",
       "    .dataframe tbody tr th {\n",
       "        vertical-align: top;\n",
       "    }\n",
       "\n",
       "    .dataframe thead th {\n",
       "        text-align: right;\n",
       "    }\n",
       "</style>\n",
       "<table border=\"1\" class=\"dataframe\">\n",
       "  <thead>\n",
       "    <tr style=\"text-align: right;\">\n",
       "      <th></th>\n",
       "      <th>id</th>\n",
       "      <th>NAME</th>\n",
       "      <th>host id</th>\n",
       "      <th>host_identity_verified</th>\n",
       "      <th>host name</th>\n",
       "      <th>neighbourhood group</th>\n",
       "      <th>neighbourhood</th>\n",
       "      <th>lat</th>\n",
       "      <th>long</th>\n",
       "      <th>instant_bookable</th>\n",
       "      <th>cancellation_policy</th>\n",
       "      <th>room type</th>\n",
       "      <th>Construction year</th>\n",
       "      <th>price</th>\n",
       "      <th>service fee</th>\n",
       "      <th>minimum nights</th>\n",
       "      <th>number of reviews</th>\n",
       "      <th>last review</th>\n",
       "      <th>reviews per month</th>\n",
       "      <th>review rate number</th>\n",
       "      <th>calculated host listings count</th>\n",
       "      <th>availability 365</th>\n",
       "      <th>house_rules</th>\n",
       "      <th>license</th>\n",
       "    </tr>\n",
       "  </thead>\n",
       "  <tbody>\n",
       "    <tr>\n",
       "      <th>no_unique_values</th>\n",
       "      <td>102058</td>\n",
       "      <td>61282</td>\n",
       "      <td>102057</td>\n",
       "      <td>3</td>\n",
       "      <td>13191</td>\n",
       "      <td>8</td>\n",
       "      <td>225</td>\n",
       "      <td>21992</td>\n",
       "      <td>17775</td>\n",
       "      <td>3</td>\n",
       "      <td>4</td>\n",
       "      <td>4</td>\n",
       "      <td>21</td>\n",
       "      <td>1152</td>\n",
       "      <td>232</td>\n",
       "      <td>154</td>\n",
       "      <td>477</td>\n",
       "      <td>2478</td>\n",
       "      <td>1017</td>\n",
       "      <td>6</td>\n",
       "      <td>79</td>\n",
       "      <td>439</td>\n",
       "      <td>1977</td>\n",
       "      <td>2</td>\n",
       "    </tr>\n",
       "    <tr>\n",
       "      <th>missing_values(%)</th>\n",
       "      <td>0.00000</td>\n",
       "      <td>0.24496</td>\n",
       "      <td>0.00000</td>\n",
       "      <td>0.28317</td>\n",
       "      <td>0.39585</td>\n",
       "      <td>0.02842</td>\n",
       "      <td>0.01568</td>\n",
       "      <td>0.00784</td>\n",
       "      <td>0.00784</td>\n",
       "      <td>0.10288</td>\n",
       "      <td>0.07447</td>\n",
       "      <td>0.00000</td>\n",
       "      <td>0.20968</td>\n",
       "      <td>0.24202</td>\n",
       "      <td>0.26749</td>\n",
       "      <td>0.39193</td>\n",
       "      <td>0.17931</td>\n",
       "      <td>15.51275</td>\n",
       "      <td>15.49903</td>\n",
       "      <td>0.31257</td>\n",
       "      <td>0.31257</td>\n",
       "      <td>0.43897</td>\n",
       "      <td>50.79661</td>\n",
       "      <td>99.99804</td>\n",
       "    </tr>\n",
       "    <tr>\n",
       "      <th>dtypes</th>\n",
       "      <td>[&lt;class 'int'&gt;]</td>\n",
       "      <td>[&lt;class 'str'&gt;, &lt;class 'float'&gt;]</td>\n",
       "      <td>[&lt;class 'int'&gt;]</td>\n",
       "      <td>[&lt;class 'str'&gt;, &lt;class 'float'&gt;]</td>\n",
       "      <td>[&lt;class 'str'&gt;, &lt;class 'float'&gt;]</td>\n",
       "      <td>[&lt;class 'str'&gt;, &lt;class 'float'&gt;]</td>\n",
       "      <td>[&lt;class 'str'&gt;, &lt;class 'float'&gt;]</td>\n",
       "      <td>[&lt;class 'float'&gt;]</td>\n",
       "      <td>[&lt;class 'float'&gt;]</td>\n",
       "      <td>[&lt;class 'bool'&gt;, &lt;class 'float'&gt;]</td>\n",
       "      <td>[&lt;class 'str'&gt;, &lt;class 'float'&gt;]</td>\n",
       "      <td>[&lt;class 'str'&gt;]</td>\n",
       "      <td>[&lt;class 'float'&gt;]</td>\n",
       "      <td>[&lt;class 'str'&gt;, &lt;class 'float'&gt;]</td>\n",
       "      <td>[&lt;class 'float'&gt;, &lt;class 'str'&gt;]</td>\n",
       "      <td>[&lt;class 'float'&gt;]</td>\n",
       "      <td>[&lt;class 'float'&gt;]</td>\n",
       "      <td>[&lt;class 'str'&gt;, &lt;class 'float'&gt;]</td>\n",
       "      <td>[&lt;class 'float'&gt;]</td>\n",
       "      <td>[&lt;class 'float'&gt;]</td>\n",
       "      <td>[&lt;class 'float'&gt;]</td>\n",
       "      <td>[&lt;class 'float'&gt;]</td>\n",
       "      <td>[&lt;class 'str'&gt;, &lt;class 'float'&gt;]</td>\n",
       "      <td>[&lt;class 'float'&gt;, &lt;class 'str'&gt;]</td>\n",
       "    </tr>\n",
       "    <tr>\n",
       "      <th>id_col</th>\n",
       "      <td>True</td>\n",
       "      <td>False</td>\n",
       "      <td>True</td>\n",
       "      <td>True</td>\n",
       "      <td>False</td>\n",
       "      <td>False</td>\n",
       "      <td>False</td>\n",
       "      <td>False</td>\n",
       "      <td>False</td>\n",
       "      <td>False</td>\n",
       "      <td>False</td>\n",
       "      <td>False</td>\n",
       "      <td>False</td>\n",
       "      <td>False</td>\n",
       "      <td>False</td>\n",
       "      <td>False</td>\n",
       "      <td>False</td>\n",
       "      <td>False</td>\n",
       "      <td>False</td>\n",
       "      <td>False</td>\n",
       "      <td>False</td>\n",
       "      <td>False</td>\n",
       "      <td>False</td>\n",
       "      <td>False</td>\n",
       "    </tr>\n",
       "    <tr>\n",
       "      <th>date_format</th>\n",
       "      <td>NaN</td>\n",
       "      <td>NaN</td>\n",
       "      <td>NaN</td>\n",
       "      <td>NaN</td>\n",
       "      <td>NaN</td>\n",
       "      <td>NaN</td>\n",
       "      <td>NaN</td>\n",
       "      <td>NaN</td>\n",
       "      <td>NaN</td>\n",
       "      <td>NaN</td>\n",
       "      <td>NaN</td>\n",
       "      <td>NaN</td>\n",
       "      <td>NaN</td>\n",
       "      <td>NaN</td>\n",
       "      <td>NaN</td>\n",
       "      <td>NaN</td>\n",
       "      <td>NaN</td>\n",
       "      <td>NaN</td>\n",
       "      <td>NaN</td>\n",
       "      <td>NaN</td>\n",
       "      <td>NaN</td>\n",
       "      <td>NaN</td>\n",
       "      <td>NaN</td>\n",
       "      <td>NaN</td>\n",
       "    </tr>\n",
       "    <tr>\n",
       "      <th>unique_values_sample</th>\n",
       "      <td>57367417, 57366865, 57366313</td>\n",
       "      <td>Rosalee Stewart, Room &amp; private bathroom in historic Harlem, Pretty Brooklyn One-Bedroom for 2 to 4 people</td>\n",
       "      <td>93578954226, 15593031571, 23801060917</td>\n",
       "      <td>verified, unconfirmed</td>\n",
       "      <td>Stanley, Shireen, Michael</td>\n",
       "      <td>Manhattan, Brooklyn, Queens</td>\n",
       "      <td>Harlem, Bedford-Stuyvesant, Bushwick</td>\n",
       "      <td>40.81315, 40.81248, 40.6781</td>\n",
       "      <td>-73.94747, -73.94317, -73.90822</td>\n",
       "      <td>False, True</td>\n",
       "      <td>flexible, strict, moderate</td>\n",
       "      <td>Entire home/apt, Private room, Shared room</td>\n",
       "      <td>2011.0, 2016.0, 2020.0</td>\n",
       "      <td>$1,128 , $848 , $387</td>\n",
       "      <td>$162 , $209 , $141</td>\n",
       "      <td>4.0, 2.0, 1.0</td>\n",
       "      <td>22.0, 0.0, 50.0</td>\n",
       "      <td>6/15/2019, 6/26/2019, 8/31/2017</td>\n",
       "      <td>0.85, 3.12, 0.72</td>\n",
       "      <td>4.0, 1.0, 3.0</td>\n",
       "      <td>1.0, 2.0, 3.0</td>\n",
       "      <td>238.0, 0.0, 235.0</td>\n",
       "      <td>Please remember that this is a residential building.  All building rules, Hotel occupancy restrictions, and year-round tenants must be respected., Each of us is working and/or going to school at the moment, so weekday guests are expected to respect a quiet period from 12am to 8am. On weekends, we almost always go out and encourage you to do the same! You're welcome to make noise in your room at a reasonable level, but we prefer that you wrap it up no later than 3am at the absolute latest on weekends., * Check out: 10am * We made an effort to keep things organized. Please help us to maintain the house as beautiful and clean as possible.  * Please ask before bringing visitors, and sorry I can only allow the number of guest on the reservation to stay overnight.  * I also ask that shoes not be worn in the house to keep the wood floors clean, and that you only eat in the dining room area.</td>\n",
       "      <td>41662/AL</td>\n",
       "    </tr>\n",
       "  </tbody>\n",
       "</table>\n",
       "</div>"
      ],
      "text/plain": [
       "                                                id  \\\n",
       "no_unique_values                            102058   \n",
       "missing_values(%)                          0.00000   \n",
       "dtypes                             [<class 'int'>]   \n",
       "id_col                                        True   \n",
       "date_format                                    NaN   \n",
       "unique_values_sample  57367417, 57366865, 57366313   \n",
       "\n",
       "                                                                                                                            NAME  \\\n",
       "no_unique_values                                                                                                           61282   \n",
       "missing_values(%)                                                                                                        0.24496   \n",
       "dtypes                                                                                          [<class 'str'>, <class 'float'>]   \n",
       "id_col                                                                                                                     False   \n",
       "date_format                                                                                                                  NaN   \n",
       "unique_values_sample  Rosalee Stewart, Room & private bathroom in historic Harlem, Pretty Brooklyn One-Bedroom for 2 to 4 people   \n",
       "\n",
       "                                                    host id  \\\n",
       "no_unique_values                                     102057   \n",
       "missing_values(%)                                   0.00000   \n",
       "dtypes                                      [<class 'int'>]   \n",
       "id_col                                                 True   \n",
       "date_format                                             NaN   \n",
       "unique_values_sample  93578954226, 15593031571, 23801060917   \n",
       "\n",
       "                                host_identity_verified  \\\n",
       "no_unique_values                                     3   \n",
       "missing_values(%)                              0.28317   \n",
       "dtypes                [<class 'str'>, <class 'float'>]   \n",
       "id_col                                            True   \n",
       "date_format                                        NaN   \n",
       "unique_values_sample             verified, unconfirmed   \n",
       "\n",
       "                                             host name  \\\n",
       "no_unique_values                                 13191   \n",
       "missing_values(%)                              0.39585   \n",
       "dtypes                [<class 'str'>, <class 'float'>]   \n",
       "id_col                                           False   \n",
       "date_format                                        NaN   \n",
       "unique_values_sample         Stanley, Shireen, Michael   \n",
       "\n",
       "                                   neighbourhood group  \\\n",
       "no_unique_values                                     8   \n",
       "missing_values(%)                              0.02842   \n",
       "dtypes                [<class 'str'>, <class 'float'>]   \n",
       "id_col                                           False   \n",
       "date_format                                        NaN   \n",
       "unique_values_sample       Manhattan, Brooklyn, Queens   \n",
       "\n",
       "                                             neighbourhood  \\\n",
       "no_unique_values                                       225   \n",
       "missing_values(%)                                  0.01568   \n",
       "dtypes                    [<class 'str'>, <class 'float'>]   \n",
       "id_col                                               False   \n",
       "date_format                                            NaN   \n",
       "unique_values_sample  Harlem, Bedford-Stuyvesant, Bushwick   \n",
       "\n",
       "                                              lat  \\\n",
       "no_unique_values                            21992   \n",
       "missing_values(%)                         0.00784   \n",
       "dtypes                          [<class 'float'>]   \n",
       "id_col                                      False   \n",
       "date_format                                   NaN   \n",
       "unique_values_sample  40.81315, 40.81248, 40.6781   \n",
       "\n",
       "                                                 long  \\\n",
       "no_unique_values                                17775   \n",
       "missing_values(%)                             0.00784   \n",
       "dtypes                              [<class 'float'>]   \n",
       "id_col                                          False   \n",
       "date_format                                       NaN   \n",
       "unique_values_sample  -73.94747, -73.94317, -73.90822   \n",
       "\n",
       "                                       instant_bookable  \\\n",
       "no_unique_values                                      3   \n",
       "missing_values(%)                               0.10288   \n",
       "dtypes                [<class 'bool'>, <class 'float'>]   \n",
       "id_col                                            False   \n",
       "date_format                                         NaN   \n",
       "unique_values_sample                        False, True   \n",
       "\n",
       "                                   cancellation_policy  \\\n",
       "no_unique_values                                     4   \n",
       "missing_values(%)                              0.07447   \n",
       "dtypes                [<class 'str'>, <class 'float'>]   \n",
       "id_col                                           False   \n",
       "date_format                                        NaN   \n",
       "unique_values_sample        flexible, strict, moderate   \n",
       "\n",
       "                                                       room type  \\\n",
       "no_unique_values                                               4   \n",
       "missing_values(%)                                        0.00000   \n",
       "dtypes                                           [<class 'str'>]   \n",
       "id_col                                                     False   \n",
       "date_format                                                  NaN   \n",
       "unique_values_sample  Entire home/apt, Private room, Shared room   \n",
       "\n",
       "                           Construction year  \\\n",
       "no_unique_values                          21   \n",
       "missing_values(%)                    0.20968   \n",
       "dtypes                     [<class 'float'>]   \n",
       "id_col                                 False   \n",
       "date_format                              NaN   \n",
       "unique_values_sample  2011.0, 2016.0, 2020.0   \n",
       "\n",
       "                                                 price  \\\n",
       "no_unique_values                                  1152   \n",
       "missing_values(%)                              0.24202   \n",
       "dtypes                [<class 'str'>, <class 'float'>]   \n",
       "id_col                                           False   \n",
       "date_format                                        NaN   \n",
       "unique_values_sample             $1,128 , $848 , $387    \n",
       "\n",
       "                                           service fee     minimum nights  \\\n",
       "no_unique_values                                   232                154   \n",
       "missing_values(%)                              0.26749            0.39193   \n",
       "dtypes                [<class 'float'>, <class 'str'>]  [<class 'float'>]   \n",
       "id_col                                           False              False   \n",
       "date_format                                        NaN                NaN   \n",
       "unique_values_sample               $162 , $209 , $141       4.0, 2.0, 1.0   \n",
       "\n",
       "                      number of reviews                       last review  \\\n",
       "no_unique_values                    477                              2478   \n",
       "missing_values(%)               0.17931                          15.51275   \n",
       "dtypes                [<class 'float'>]  [<class 'str'>, <class 'float'>]   \n",
       "id_col                            False                             False   \n",
       "date_format                         NaN                               NaN   \n",
       "unique_values_sample    22.0, 0.0, 50.0   6/15/2019, 6/26/2019, 8/31/2017   \n",
       "\n",
       "                      reviews per month review rate number  \\\n",
       "no_unique_values                   1017                  6   \n",
       "missing_values(%)              15.49903            0.31257   \n",
       "dtypes                [<class 'float'>]  [<class 'float'>]   \n",
       "id_col                            False              False   \n",
       "date_format                         NaN                NaN   \n",
       "unique_values_sample   0.85, 3.12, 0.72      4.0, 1.0, 3.0   \n",
       "\n",
       "                     calculated host listings count   availability 365  \\\n",
       "no_unique_values                                 79                439   \n",
       "missing_values(%)                           0.31257            0.43897   \n",
       "dtypes                            [<class 'float'>]  [<class 'float'>]   \n",
       "id_col                                        False              False   \n",
       "date_format                                     NaN                NaN   \n",
       "unique_values_sample                  1.0, 2.0, 3.0  238.0, 0.0, 235.0   \n",
       "\n",
       "                                                                                                                                                                                                                                                                                                                                                                                                                                                                                                                                                                                                                                                                                                                                                                                                                                                                                                                                           house_rules  \\\n",
       "no_unique_values                                                                                                                                                                                                                                                                                                                                                                                                                                                                                                                                                                                                                                                                                                                                                                                                                                                                                                                                  1977   \n",
       "missing_values(%)                                                                                                                                                                                                                                                                                                                                                                                                                                                                                                                                                                                                                                                                                                                                                                                                                                                                                                                             50.79661   \n",
       "dtypes                                                                                                                                                                                                                                                                                                                                                                                                                                                                                                                                                                                                                                                                                                                                                                                                                                                                                                                [<class 'str'>, <class 'float'>]   \n",
       "id_col                                                                                                                                                                                                                                                                                                                                                                                                                                                                                                                                                                                                                                                                                                                                                                                                                                                                                                                                           False   \n",
       "date_format                                                                                                                                                                                                                                                                                                                                                                                                                                                                                                                                                                                                                                                                                                                                                                                                                                                                                                                                        NaN   \n",
       "unique_values_sample  Please remember that this is a residential building.  All building rules, Hotel occupancy restrictions, and year-round tenants must be respected., Each of us is working and/or going to school at the moment, so weekday guests are expected to respect a quiet period from 12am to 8am. On weekends, we almost always go out and encourage you to do the same! You're welcome to make noise in your room at a reasonable level, but we prefer that you wrap it up no later than 3am at the absolute latest on weekends., * Check out: 10am * We made an effort to keep things organized. Please help us to maintain the house as beautiful and clean as possible.  * Please ask before bringing visitors, and sorry I can only allow the number of guest on the reservation to stay overnight.  * I also ask that shoes not be worn in the house to keep the wood floors clean, and that you only eat in the dining room area.   \n",
       "\n",
       "                                               license  \n",
       "no_unique_values                                     2  \n",
       "missing_values(%)                             99.99804  \n",
       "dtypes                [<class 'float'>, <class 'str'>]  \n",
       "id_col                                           False  \n",
       "date_format                                        NaN  \n",
       "unique_values_sample                          41662/AL  "
      ]
     },
     "execution_count": 5,
     "metadata": {},
     "output_type": "execute_result"
    }
   ],
   "source": [
    "num_rows, num_columns = df.shape\n",
    "print(\"Number of rows:\", num_rows)\n",
    "print(\"Number of columns:\", num_columns)\n",
    "\n",
    "analys_s=summarize_df(df=df,show_uniques=True)\n",
    "pd.set_option('display.max_columns', None)\n",
    "analys_s.T"
   ]
  },
  {
   "cell_type": "code",
   "execution_count": 6,
   "id": "56537796-3cc1-4bf1-9a84-8ba2181c221a",
   "metadata": {
    "tags": []
   },
   "outputs": [
    {
     "data": {
      "text/plain": [
       "<AxesSubplot:>"
      ]
     },
     "execution_count": 6,
     "metadata": {},
     "output_type": "execute_result"
    },
    {
     "data": {
      "image/png": "[encoded data removed]",
      "text/plain": [
       "<Figure size 1800x720 with 2 Axes>"
      ]
     },
     "metadata": {
      "needs_background": "light"
     },
     "output_type": "display_data"
    }
   ],
   "source": [
    "msno.matrix(df)"
   ]
  },
  {
   "cell_type": "markdown",
   "id": "1b4cf610-fda6-433e-b62a-3d674cd0c3d8",
   "metadata": {},
   "source": [
    "However, we can drop NAs in columns where NAs are less than 1% of the whole data. Let's see how much % of the whole dataset will stay. Loosing meven more than 2% fo the whole datatset can lead to further analysis bias. Maybe if to observe each column sepaately it can minimise this %?"
   ]
  },
  {
   "cell_type": "code",
   "execution_count": 7,
   "id": "71d7eba2-2db4-4c9f-81c4-17cd80585444",
   "metadata": {},
   "outputs": [
    {
     "name": "stdout",
     "output_type": "stream",
     "text": [
      "dataset volume(%) without last review and house_rules columns: 97.63761782515824\n"
     ]
    }
   ],
   "source": [
    "df1 = df.dropna(subset=['Construction year', 'host_identity_verified', 'NAME', 'long', 'instant_bookable', 'lat', 'neighbourhood', 'host id', 'minimum nights', 'host name', 'calculated host listings count', 'availability 365', 'number of reviews'], how='any')\n",
    "print('dataset volume(%) without last review and house_rules columns:', (df1.shape[0]/df.shape[0])*100)"
   ]
  },
  {
   "cell_type": "markdown",
   "id": "9531d5aa-7b59-4ba1-ae8b-79be7985441c",
   "metadata": {},
   "source": [
    "### Handling each column separately\n",
    "\n",
    "Each column has its own specifications for further analysis, so I will handle them sort of separately.\n",
    "\n",
    "Once we address these anomalies, we can delve into numerical columns, changing data type where necessary. The 'price' column, for instance, may need normalization or outlier removal to prevent skewed analyses. \n",
    "\n",
    "Firstly, let's check categorical values for typoes.To ensure data accuracy, scrutinize categorical values for typos or inconsistencies.\n",
    "- 'Brooklyn' appears as 'brookln' and 'manhatan' (likely a typo) with only one occurrence.\n",
    "- License: Most listings lack a license ('False'), but two entries have '41662/AL' as a potential typo or unique case."
   ]
  },
  {
   "cell_type": "code",
   "execution_count": 8,
   "id": "e61203bf-a695-4a24-9a81-10b75bfd7e76",
   "metadata": {
    "tags": []
   },
   "outputs": [
    {
     "name": "stdout",
     "output_type": "stream",
     "text": [
      "unconfirmed    50944\n",
      "verified       50825\n",
      "Name: host_identity_verified, dtype: int64\n",
      "Bronx             2694\n",
      "Brooklyn         41630\n",
      "Manhattan        43557\n",
      "Queens           13197\n",
      "Staten Island      949\n",
      "brookln              1\n",
      "manhatan             1\n",
      "Name: neighbourhood group, dtype: int64\n",
      "Allerton                        96\n",
      "Arden Heights                    9\n",
      "Arrochar                        51\n",
      "Arverne                        219\n",
      "Astoria                       1868\n",
      "Bath Beach                      47\n",
      "Battery Park City              117\n",
      "Bay Ridge                      301\n",
      "Bay Terrace                      8\n",
      "Bay Terrace, Staten Island       4\n",
      "Baychester                      27\n",
      "Bayside                        122\n",
      "Bayswater                       40\n",
      "Bedford-Stuyvesant            7898\n",
      "Belle Harbor                    30\n",
      "Bellerose                       26\n",
      "Belmont                         45\n",
      "Bensonhurst                    156\n",
      "Bergen Beach                    30\n",
      "Boerum Hill                    357\n",
      "Borough Park                   267\n",
      "Breezy Point                     9\n",
      "Briarwood                      121\n",
      "Brighton Beach                 168\n",
      "Bronxdale                       46\n",
      "Brooklyn Heights               306\n",
      "Brownsville                    153\n",
      "Bull's Head                     12\n",
      "Bushwick                      4956\n",
      "Cambria Heights                 78\n",
      "Canarsie                       398\n",
      "Carroll Gardens                476\n",
      "Castle Hill                     22\n",
      "Castleton Corners               13\n",
      "Chelsea                       2276\n",
      "Chelsea, Staten Island           1\n",
      "Chinatown                      789\n",
      "City Island                     41\n",
      "Civic Center                   106\n",
      "Claremont Village               59\n",
      "Clason Point                    50\n",
      "Clifton                         39\n",
      "Clinton Hill                  1135\n",
      "Co-op City                       5\n",
      "Cobble Hill                    197\n",
      "College Point                   48\n",
      "Columbia St                     88\n",
      "Concord                         60\n",
      "Concourse                      123\n",
      "Concourse Village               76\n",
      "Coney Island                    50\n",
      "Corona                         160\n",
      "Crown Heights                 3251\n",
      "Cypress Hills                  335\n",
      "DUMBO                           70\n",
      "Ditmars Steinway               685\n",
      "Dongan Hills                    13\n",
      "Douglaston                      22\n",
      "Downtown Brooklyn              175\n",
      "Dyker Heights                   25\n",
      "East Elmhurst                  483\n",
      "East Flatbush                 1206\n",
      "East Harlem                   2322\n",
      "East Morrisania                 21\n",
      "East New York                  603\n",
      "East Village                  3477\n",
      "Eastchester                     29\n",
      "Edenwald                        35\n",
      "Edgemere                        32\n",
      "Elmhurst                       529\n",
      "Eltingville                      7\n",
      "Emerson Hill                    10\n",
      "Far Rockaway                    78\n",
      "Fieldston                       25\n",
      "Financial District            1480\n",
      "Flatbush                      1284\n",
      "Flatiron District              157\n",
      "Flatlands                      217\n",
      "Flushing                       985\n",
      "Fordham                        152\n",
      "Forest Hills                   303\n",
      "Fort Greene                    940\n",
      "Fort Hamilton                  120\n",
      "Fort Wadsworth                   2\n",
      "Fresh Meadows                   97\n",
      "Gerritsen Beach                  3\n",
      "Glen Oaks                        2\n",
      "Glendale                       138\n",
      "Gowanus                        494\n",
      "Gramercy                       690\n",
      "Graniteville                     7\n",
      "Grant City                      22\n",
      "Gravesend                      140\n",
      "Great Kills                     24\n",
      "Greenpoint                    2136\n",
      "Greenwich Village              742\n",
      "Grymes Hill                     18\n",
      "Harlem                        5441\n",
      "Hell's Kitchen                3949\n",
      "Highbridge                      67\n",
      "Hollis                          44\n",
      "Holliswood                      10\n",
      "Howard Beach                    50\n",
      "Howland Hook                     6\n",
      "Huguenot                         9\n",
      "Hunts Point                     53\n",
      "Inwood                         547\n",
      "Jackson Heights                448\n",
      "Jamaica                        614\n",
      "Jamaica Estates                 50\n",
      "Jamaica Hills                   21\n",
      "Kensington                     367\n",
      "Kew Gardens                     83\n",
      "Kew Gardens Hills               66\n",
      "Kingsbridge                    164\n",
      "Kips Bay                       915\n",
      "Laurelton                       66\n",
      "Lighthouse Hill                  3\n",
      "Little Italy                   277\n",
      "Little Neck                      8\n",
      "Long Island City              1142\n",
      "Longwood                       133\n",
      "Lower East Side               1937\n",
      "Manhattan Beach                 22\n",
      "Marble Hill                     28\n",
      "Mariners Harbor                 25\n",
      "Maspeth                        254\n",
      "Melrose                         23\n",
      "Middle Village                  67\n",
      "Midland Beach                   17\n",
      "Midtown                       3357\n",
      "Midwood                        234\n",
      "Mill Basin                      14\n",
      "Morningside Heights            630\n",
      "Morris Heights                  46\n",
      "Morris Park                     45\n",
      "Morrisania                      44\n",
      "Mott Haven                     149\n",
      "Mount Eden                      18\n",
      "Mount Hope                      54\n",
      "Murray Hill                    958\n",
      "Navy Yard                       31\n",
      "Neponsit                         7\n",
      "New Brighton                    15\n",
      "New Dorp                         4\n",
      "New Dorp Beach                  11\n",
      "New Springville                 18\n",
      "NoHo                           140\n",
      "Nolita                         527\n",
      "North Riverdale                 27\n",
      "Norwood                         75\n",
      "Oakwood                         14\n",
      "Olinville                       23\n",
      "Ozone Park                     150\n",
      "Park Slope                    1000\n",
      "Parkchester                     97\n",
      "Pelham Bay                      43\n",
      "Pelham Gardens                  74\n",
      "Port Morris                     99\n",
      "Port Richmond                   24\n",
      "Prince's Bay                     8\n",
      "Prospect Heights               696\n",
      "Prospect-Lefferts Gardens     1157\n",
      "Queens Village                 146\n",
      "Randall Manor                   45\n",
      "Red Hook                       177\n",
      "Rego Park                      235\n",
      "Richmond Hill                  219\n",
      "Richmondtown                     5\n",
      "Ridgewood                      903\n",
      "Riverdale                       19\n",
      "Rockaway Beach                 186\n",
      "Roosevelt Island               158\n",
      "Rosebank                        14\n",
      "Rosedale                       171\n",
      "Rossville                        3\n",
      "Schuylerville                   47\n",
      "Sea Gate                        20\n",
      "Sheepshead Bay                 368\n",
      "Shore Acres                     21\n",
      "Silver Lake                      9\n",
      "SoHo                           681\n",
      "Soundview                       33\n",
      "South Beach                     16\n",
      "South Ozone Park               127\n",
      "South Slope                    567\n",
      "Springfield Gardens            246\n",
      "Spuyten Duyvil                   9\n",
      "St. Albans                     214\n",
      "St. George                     125\n",
      "Stapleton                       65\n",
      "Stuyvesant Town                 83\n",
      "Sunnyside                      788\n",
      "Sunset Park                    866\n",
      "Theater District               564\n",
      "Throgs Neck                     56\n",
      "Todt Hill                        7\n",
      "Tompkinsville                  110\n",
      "Tottenville                     13\n",
      "Tremont                         30\n",
      "Tribeca                        342\n",
      "Two Bridges                    132\n",
      "Unionport                       22\n",
      "University Heights              55\n",
      "Upper East Side               3656\n",
      "Upper West Side               3841\n",
      "Van Nest                        25\n",
      "Vinegar Hill                    72\n",
      "Wakefield                      159\n",
      "Washington Heights            1771\n",
      "West Brighton                   59\n",
      "West Farms                       6\n",
      "West Village                  1473\n",
      "Westchester Square              23\n",
      "Westerleigh                      5\n",
      "Whitestone                      26\n",
      "Williamsbridge                  96\n",
      "Williamsburg                  7732\n",
      "Willowbrook                      3\n",
      "Windsor Terrace                331\n",
      "Woodhaven                      190\n",
      "Woodlawn                        29\n",
      "Woodrow                          3\n",
      "Woodside                       585\n",
      "Name: neighbourhood, dtype: int64\n",
      "False    51186\n",
      "True     50767\n",
      "Name: instant_bookable, dtype: int64\n",
      "flexible    33891\n",
      "moderate    34162\n",
      "strict      33929\n",
      "Name: cancellation_policy, dtype: int64\n",
      "41662/AL    2\n",
      "Name: license, dtype: int64\n"
     ]
    }
   ],
   "source": [
    "print(df['host_identity_verified'].value_counts().sort_index())\n",
    "print(df['neighbourhood group'].value_counts().sort_index())\n",
    "print(df['neighbourhood'].value_counts().sort_index())\n",
    "print(df['instant_bookable'].value_counts().sort_index())\n",
    "print(df['cancellation_policy'].value_counts().sort_index())\n",
    "print(df['license'].value_counts().sort_index())"
   ]
  },
  {
   "cell_type": "code",
   "execution_count": 9,
   "id": "bf5c9ff1-cbf3-4e13-a16d-1d3fa62e892f",
   "metadata": {},
   "outputs": [],
   "source": [
    "df['neighbourhood group'] = df['neighbourhood group'].replace('brookln', 'Brooklyn').replace('manhatan', 'Manhattan')"
   ]
  },
  {
   "cell_type": "markdown",
   "id": "a958fb7b-c922-4c2c-8dcb-3bf5c234ab6f",
   "metadata": {},
   "source": [
    "#### 'neighbourhood group'\n",
    "There are some NA values in 'neighbourhood group', which stands one level below 'neighbourhood' in the hiereachy. Let's match NAs by neighbourhood. "
   ]
  },
  {
   "cell_type": "code",
   "execution_count": 10,
   "id": "7a2c8fe9-cda0-4877-b898-ea69e788248c",
   "metadata": {
    "tags": []
   },
   "outputs": [
    {
     "name": "stdout",
     "output_type": "stream",
     "text": [
      "NAs in neighbourhood group: 29\n"
     ]
    }
   ],
   "source": [
    "print('NAs in neighbourhood group:', df['neighbourhood group'].isna().sum())"
   ]
  },
  {
   "cell_type": "code",
   "execution_count": 11,
   "id": "76c393a8-b41d-44c2-8be4-55e71d26b2f4",
   "metadata": {
    "tags": []
   },
   "outputs": [
    {
     "name": "stdout",
     "output_type": "stream",
     "text": [
      "NAs in neighbourhood group after matching: 0\n"
     ]
    }
   ],
   "source": [
    "neigh = df.sort_values(by='neighbourhood', ascending=False)\n",
    "neigh = neigh.drop_duplicates(subset='neighbourhood', keep='first')\n",
    "neigh = neigh[['neighbourhood', 'neighbourhood group']]\n",
    "df = df.merge(neigh, on='neighbourhood', how='left')\n",
    "del df['neighbourhood group_x']\n",
    "df.rename(columns={'neighbourhood group_y': 'neighbourhood group'}, inplace=True)\n",
    "print('NAs in neighbourhood group after matching:', df['neighbourhood group'].isna().sum())"
   ]
  },
  {
   "cell_type": "markdown",
   "id": "8a772d20-4904-43d3-9c5c-8ccd73a50d3f",
   "metadata": {},
   "source": [
    "#### 'price'\n",
    "The next column to observe is 'price'. It's a good idea to fill missing values by average in each neighbourhood and room type, so it would be more accurate. That way, we ensure a nuanced approach, reflecting the local context. Plus, it minimizes distortions in pricing, giving us a clearer picture for analysis."
   ]
  },
  {
   "cell_type": "code",
   "execution_count": 12,
   "id": "499e08e0-984f-4c99-83bf-aa20698e2029",
   "metadata": {
    "tags": []
   },
   "outputs": [
    {
     "data": {
      "text/plain": [
       "neighbourhood\n",
       "Unionport                    4.54545\n",
       "Jamaica Estates              4.00000\n",
       "Tremont                      3.33333\n",
       "Bronxdale                    2.17391\n",
       "Clason Point                 2.00000\n",
       "Arrochar                     1.96078\n",
       "Briarwood                    1.65289\n",
       "Stapleton                    1.53846\n",
       "Laurelton                    1.51515\n",
       "Allerton                     1.04167\n",
       "Tompkinsville                0.90909\n",
       "Woodside                     0.85470\n",
       "Gravesend                    0.71429\n",
       "NoHo                         0.71429\n",
       "Jackson Heights              0.66964\n",
       "Fordham                      0.65789\n",
       "Kingsbridge                  0.60976\n",
       "Cypress Hills                0.59701\n",
       "SoHo                         0.58737\n",
       "Greenwich Village            0.53908\n",
       "Woodhaven                    0.52632\n",
       "East Village                 0.51769\n",
       "Flushing                     0.50761\n",
       "Flatlands                    0.46083\n",
       "Midwood                      0.42735\n",
       "Rego Park                    0.42553\n",
       "Murray Hill                  0.41754\n",
       "East Elmhurst                0.41408\n",
       "Gowanus                      0.40486\n",
       "Borough Park                 0.37453\n",
       "Inwood                       0.36563\n",
       "Little Italy                 0.36101\n",
       "Sunset Park                  0.34642\n",
       "East New York                0.33167\n",
       "Forest Hills                 0.33003\n",
       "Upper East Side              0.32823\n",
       "Kips Bay                     0.32787\n",
       "Bushwick                     0.32284\n",
       "Lower East Side              0.30976\n",
       "Crown Heights                0.30760\n",
       "Windsor Terrace              0.30211\n",
       "East Harlem                  0.30146\n",
       "Midtown                      0.29789\n",
       "Gramercy                     0.28986\n",
       "Greenpoint                   0.28090\n",
       "West Village                 0.27155\n",
       "Astoria                      0.26767\n",
       "Chinatown                    0.25349\n",
       "Canarsie                     0.25126\n",
       "Williamsburg                 0.24573\n",
       "Ridgewood                    0.22148\n",
       "Chelsea                      0.21968\n",
       "Fort Greene                  0.21277\n",
       "Carroll Gardens              0.21008\n",
       "Bedford-Stuyvesant           0.20258\n",
       "Nolita                       0.18975\n",
       "Harlem                       0.18379\n",
       "Upper West Side              0.18224\n",
       "South Slope                  0.17637\n",
       "Clinton Hill                 0.17621\n",
       "Jamaica                      0.16287\n",
       "Morningside Heights          0.15873\n",
       "Ditmars Steinway             0.14599\n",
       "Financial District           0.13514\n",
       "Sunnyside                    0.12690\n",
       "Hell's Kitchen               0.10129\n",
       "Park Slope                   0.10000\n",
       "Prospect-Lefferts Gardens    0.08643\n",
       "East Flatbush                0.08292\n",
       "Flatbush                     0.07788\n",
       "Washington Heights           0.05647\n",
       "Ozone Park                   0.00000\n",
       "West Brighton                0.00000\n",
       "Parkchester                  0.00000\n",
       "Pelham Bay                   0.00000\n",
       "Springfield Gardens          0.00000\n",
       "West Farms                   0.00000\n",
       "Port Morris                  0.00000\n",
       "Port Richmond                0.00000\n",
       "Wakefield                    0.00000\n",
       "Vinegar Hill                 0.00000\n",
       "Van Nest                     0.00000\n",
       "Prince's Bay                 0.00000\n",
       "Pelham Gardens               0.00000\n",
       "Oakwood                      0.00000\n",
       "Olinville                    0.00000\n",
       "New Brighton                 0.00000\n",
       "Woodrow                      0.00000\n",
       "Navy Yard                    0.00000\n",
       "Woodlawn                     0.00000\n",
       "Neponsit                     0.00000\n",
       "Willowbrook                  0.00000\n",
       "Williamsbridge               0.00000\n",
       "New Dorp                     0.00000\n",
       "Norwood                      0.00000\n",
       "New Dorp Beach               0.00000\n",
       "New Springville              0.00000\n",
       "Whitestone                   0.00000\n",
       "Westerleigh                  0.00000\n",
       "North Riverdale              0.00000\n",
       "Westchester Square           0.00000\n",
       "Prospect Heights             0.00000\n",
       "Red Hook                     0.00000\n",
       "Queens Village               0.00000\n",
       "Sheepshead Bay               0.00000\n",
       "Theater District             0.00000\n",
       "Stuyvesant Town              0.00000\n",
       "Battery Park City            0.00000\n",
       "St. George                   0.00000\n",
       "Sea Gate                     0.00000\n",
       "Mount Eden                   0.00000\n",
       "Shore Acres                  0.00000\n",
       "Randall Manor                0.00000\n",
       "Silver Lake                  0.00000\n",
       "St. Albans                   0.00000\n",
       "Soundview                    0.00000\n",
       "South Beach                  0.00000\n",
       "South Ozone Park             0.00000\n",
       "Spuyten Duyvil               0.00000\n",
       "Schuylerville                0.00000\n",
       "Rossville                    0.00000\n",
       "Rosedale                     0.00000\n",
       "Rosebank                     0.00000\n",
       "Roosevelt Island             0.00000\n",
       "Rockaway Beach               0.00000\n",
       "Throgs Neck                  0.00000\n",
       "Todt Hill                    0.00000\n",
       "Riverdale                    0.00000\n",
       "Bath Beach                   0.00000\n",
       "Tottenville                  0.00000\n",
       "Richmondtown                 0.00000\n",
       "Tribeca                      0.00000\n",
       "Two Bridges                  0.00000\n",
       "Richmond Hill                0.00000\n",
       "Arverne                      0.00000\n",
       "University Heights           0.00000\n",
       "Mount Hope                   0.00000\n",
       "Bayswater                    0.00000\n",
       "Mott Haven                   0.00000\n",
       "Corona                       0.00000\n",
       "Co-op City                   0.00000\n",
       "Cobble Hill                  0.00000\n",
       "College Point                0.00000\n",
       "Columbia St                  0.00000\n",
       "Concord                      0.00000\n",
       "Concourse                    0.00000\n",
       "Concourse Village            0.00000\n",
       "Coney Island                 0.00000\n",
       "DUMBO                        0.00000\n",
       "Bay Terrace, Staten Island   0.00000\n",
       "Dongan Hills                 0.00000\n",
       "Douglaston                   0.00000\n",
       "Downtown Brooklyn            0.00000\n",
       "Dyker Heights                0.00000\n",
       "East Morrisania              0.00000\n",
       "Eastchester                  0.00000\n",
       "Edenwald                     0.00000\n",
       "Edgemere                     0.00000\n",
       "Clifton                      0.00000\n",
       "Claremont Village            0.00000\n",
       "Morrisania                   0.00000\n",
       "Brighton Beach               0.00000\n",
       "Belle Harbor                 0.00000\n",
       "Bellerose                    0.00000\n",
       "Belmont                      0.00000\n",
       "Bensonhurst                  0.00000\n",
       "Bergen Beach                 0.00000\n",
       "Boerum Hill                  0.00000\n",
       "Breezy Point                 0.00000\n",
       "Bayside                      0.00000\n",
       "Baychester                   0.00000\n",
       "Civic Center                 0.00000\n",
       "Brooklyn Heights             0.00000\n",
       "Brownsville                  0.00000\n",
       "Bull's Head                  0.00000\n",
       "Cambria Heights              0.00000\n",
       "Castle Hill                  0.00000\n",
       "Castleton Corners            0.00000\n",
       "Chelsea, Staten Island       0.00000\n",
       "City Island                  0.00000\n",
       "Elmhurst                     0.00000\n",
       "Eltingville                  0.00000\n",
       "Emerson Hill                 0.00000\n",
       "Manhattan Beach              0.00000\n",
       "Kensington                   0.00000\n",
       "Arden Heights                0.00000\n",
       "Kew Gardens Hills            0.00000\n",
       "Bay Ridge                    0.00000\n",
       "Lighthouse Hill              0.00000\n",
       "Little Neck                  0.00000\n",
       "Long Island City             0.00000\n",
       "Longwood                     0.00000\n",
       "Marble Hill                  0.00000\n",
       "Far Rockaway                 0.00000\n",
       "Mariners Harbor              0.00000\n",
       "Maspeth                      0.00000\n",
       "Melrose                      0.00000\n",
       "Middle Village               0.00000\n",
       "Midland Beach                0.00000\n",
       "Mill Basin                   0.00000\n",
       "Morris Heights               0.00000\n",
       "Morris Park                  0.00000\n",
       "Jamaica Hills                0.00000\n",
       "Bay Terrace                  0.00000\n",
       "Hunts Point                  0.00000\n",
       "Huguenot                     0.00000\n",
       "Fieldston                    0.00000\n",
       "Flatiron District            0.00000\n",
       "Fort Hamilton                0.00000\n",
       "Fort Wadsworth               0.00000\n",
       "Fresh Meadows                0.00000\n",
       "Gerritsen Beach              0.00000\n",
       "Glen Oaks                    0.00000\n",
       "Glendale                     0.00000\n",
       "Graniteville                 0.00000\n",
       "Grant City                   0.00000\n",
       "Great Kills                  0.00000\n",
       "Grymes Hill                  0.00000\n",
       "Highbridge                   0.00000\n",
       "Hollis                       0.00000\n",
       "Holliswood                   0.00000\n",
       "Howard Beach                 0.00000\n",
       "Howland Hook                 0.00000\n",
       "Kew Gardens                  0.00000\n",
       "Name: price, dtype: float64"
      ]
     },
     "execution_count": 12,
     "metadata": {},
     "output_type": "execute_result"
    }
   ],
   "source": [
    "#how many nas in price by neighbourhood (%)?\n",
    "na_percentage = df.groupby('neighbourhood')['price'].apply(lambda x: (x.isna().sum() / len(x)) * 100)\n",
    "na_percentage.sort_values(ascending=False)"
   ]
  },
  {
   "cell_type": "code",
   "execution_count": 13,
   "id": "0d0f6fe0-cfc4-40b6-a558-2cab0156deb1",
   "metadata": {
    "tags": []
   },
   "outputs": [],
   "source": [
    "# Convert 'price' column to numeric and fill by mean of neighbourhood and room type\n",
    "df['price'] = pd.to_numeric(df['price'].str.replace('[\\$,]', '', regex=True), errors='coerce')\n",
    "mean_prices = df.groupby(['neighbourhood', 'room type'])['price'].mean()\n",
    "# Fill missing 'price' values based on the mean prices\n",
    "df['price'] = df.apply(lambda row: mean_prices.get((row['neighbourhood'], row['room type']), row['price']), axis=1)"
   ]
  },
  {
   "cell_type": "markdown",
   "id": "a6b44c80-ed70-4152-92eb-cc9dd1fa6019",
   "metadata": {},
   "source": [
    "#### 'service fee'\n",
    "If there is no 0 in 'service fee', this can mean that Nas are simply objects where service fee is 0. The minimum value there is in the column is 10, so let's ssume so and replace missing values with 0."
   ]
  },
  {
   "cell_type": "code",
   "execution_count": 14,
   "id": "9882c3e8-b57f-453c-b945-c1c3b4812715",
   "metadata": {},
   "outputs": [],
   "source": [
    "#converting to numeric\n",
    "df['service fee'] = pd.to_numeric(df['service fee'].str.replace('[\\$,]', '', regex=True), errors='coerce')"
   ]
  },
  {
   "cell_type": "code",
   "execution_count": 15,
   "id": "9b37837e-0330-4964-b3ec-c627bd5a4e44",
   "metadata": {
    "tags": []
   },
   "outputs": [
    {
     "data": {
      "text/plain": [
       "10.0"
      ]
     },
     "execution_count": 15,
     "metadata": {},
     "output_type": "execute_result"
    }
   ],
   "source": [
    "df['service fee'].min()"
   ]
  },
  {
   "cell_type": "code",
   "execution_count": 16,
   "id": "e39775d4-14e4-4eb0-8b71-7f4ddf2071a1",
   "metadata": {},
   "outputs": [],
   "source": [
    "#filling nas in service fee just by 0, because the min is 10\n",
    "df['service fee'] = df['service fee'].fillna(0)"
   ]
  },
  {
   "cell_type": "markdown",
   "id": "a7c21e48-ed75-40b6-ad79-65826bf78f3d",
   "metadata": {},
   "source": [
    "#### 'minimum nights'\n",
    "The discovery that there are values below zero prompts a more detailed exploration. The subsequent boxplot visualization for 'minimum nights' reveals the distribution of values, helping identify outliers and the overall spread.\n",
    "\n",
    "Calculating the percentage of values below zero, shedds the light on the extent of this anomaly. Following statistical insights such as quartiles (Q1, Q2, Q3) and the 95th percentile, the code aims for a comprehensive understanding of the data distribution.\n",
    "\n",
    "To address outliers, values below zero or above 30 are replaced with 0, ensuring a more realistic representation. Additionally, missing values in the 'minimum nights' column are filled with a default value of 3, enhancing the dataset's completeness."
   ]
  },
  {
   "cell_type": "code",
   "execution_count": 17,
   "id": "7a0c7d11-4993-4157-995d-958aa7675788",
   "metadata": {},
   "outputs": [
    {
     "data": {
      "text/plain": [
       "-1223.0"
      ]
     },
     "execution_count": 17,
     "metadata": {},
     "output_type": "execute_result"
    }
   ],
   "source": [
    "df['minimum nights'].min()"
   ]
  },
  {
   "cell_type": "code",
   "execution_count": 18,
   "id": "fa25d732-cc9a-4244-b7cf-8d6c041db2ec",
   "metadata": {},
   "outputs": [
    {
     "data": {
      "image/png": "[encoded data removed]",
      "text/plain": [
       "<Figure size 576x576 with 1 Axes>"
      ]
     },
     "metadata": {
      "needs_background": "light"
     },
     "output_type": "display_data"
    }
   ],
   "source": [
    "#sounds not good. lets make a boxplot to discover values more\n",
    "columns_to_plot = ['minimum nights']\n",
    "\n",
    "aspect_ratio = 8  \n",
    "colors = sns.color_palette('Set3', n_colors=len(columns_to_plot))\n",
    "\n",
    "plt.figure(figsize=(8, aspect_ratio * len(columns_to_plot)))  \n",
    "\n",
    "for i, (col, color) in enumerate(zip(columns_to_plot, colors), 1):\n",
    "    plt.subplot(len(columns_to_plot), 1, i)\n",
    "    sns.boxplot(data=df[col], color=color) \n",
    "    plt.title(f'Boxplot for {col}')\n",
    "\n",
    "plt.tight_layout() \n",
    "plt.show()"
   ]
  },
  {
   "cell_type": "code",
   "execution_count": 19,
   "id": "7f4d9843-1527-44a0-a109-aa6866405f51",
   "metadata": {},
   "outputs": [
    {
     "name": "stdout",
     "output_type": "stream",
     "text": [
      "Percentage of values below 0 in minimum nights: 0.01%\n"
     ]
    }
   ],
   "source": [
    "# Calculate the percentage of values below 0\n",
    "count_below_zero = (df['minimum nights'] < 0).sum()\n",
    "total_values = len(df)\n",
    "percentage_below_zero = (count_below_zero / total_values) * 100\n",
    "\n",
    "print(f\"Percentage of values below 0 in minimum nights: {percentage_below_zero:.2f}%\")"
   ]
  },
  {
   "cell_type": "code",
   "execution_count": 20,
   "id": "33992c1a-1648-43ad-a903-c98d447b509d",
   "metadata": {},
   "outputs": [
    {
     "name": "stdout",
     "output_type": "stream",
     "text": [
      "Q1 (25th percentile): 2.0\n",
      "Q2 (50th percentile - Median): 3.0\n",
      "Q3 (75th percentile): 5.0\n",
      "(95th percentile): 30.0\n"
     ]
    }
   ],
   "source": [
    "q1 = df['minimum nights'].quantile(0.25)\n",
    "q2 = df['minimum nights'].quantile(0.5)  # Median\n",
    "q3 = df['minimum nights'].quantile(0.75)\n",
    "q4 = df['minimum nights'].quantile(0.95)\n",
    "print(f\"Q1 (25th percentile): {q1}\")\n",
    "print(f\"Q2 (50th percentile - Median): {q2}\")\n",
    "print(f\"Q3 (75th percentile): {q3}\")\n",
    "print(f\"(95th percentile): {q4}\")"
   ]
  },
  {
   "cell_type": "code",
   "execution_count": 21,
   "id": "7750d4fb-7117-4358-8cb8-f946cfd67a83",
   "metadata": {},
   "outputs": [],
   "source": [
    "# Replace values below 0 or above 30 with 0 in col1\n",
    "df['minimum nights'] = df['minimum nights'].apply(lambda x: 0 if x < 0 or x > 30 else x)\n",
    "df['minimum nights'] = df['minimum nights'].fillna(3)"
   ]
  },
  {
   "cell_type": "markdown",
   "id": "d45c94e5-4998-486e-b4fe-37882675ece2",
   "metadata": {},
   "source": [
    "#### 'house_rules' is a descriptive text column - no need to drop NAs here, just state thet there is no text in it. "
   ]
  },
  {
   "cell_type": "code",
   "execution_count": 22,
   "id": "231c4492-9a42-49f5-aaad-a411a5c19d4f",
   "metadata": {},
   "outputs": [],
   "source": [
    "df['house_rules'] = df['house_rules'].fillna('-')"
   ]
  },
  {
   "cell_type": "markdown",
   "id": "bd1ae25f-260f-4ab9-acc9-0bb2cbd5b1f3",
   "metadata": {},
   "source": [
    "#### 'reviews per month' and 'review rate number'\n",
    "\n",
    "These columns are interconnected, so let's work on them in parallel. To address missing values, both columns have NaN values replaced with their respective means, a sensible strategy for maintaining statistical accuracy while filling gaps in the dataset."
   ]
  },
  {
   "cell_type": "code",
   "execution_count": 23,
   "id": "418c2c01-48dc-4375-a25a-858db9b78e8b",
   "metadata": {},
   "outputs": [
    {
     "name": "stdout",
     "output_type": "stream",
     "text": [
      "col min: 0.01\n",
      "col max: 90.0\n",
      "col mean: 1.3754082792208238\n"
     ]
    },
    {
     "data": {
      "image/png": "[encoded data removed]",
      "text/plain": [
       "<Figure size 576x576 with 1 Axes>"
      ]
     },
     "metadata": {
      "needs_background": "light"
     },
     "output_type": "display_data"
    }
   ],
   "source": [
    "#checking for outliers\n",
    "print ('col min:', df['reviews per month'].min())\n",
    "print ('col max:', df['reviews per month'].max())\n",
    "print ('col mean:', df['reviews per month'].mean())\n",
    "\n",
    "columns_to_plot = ['reviews per month']\n",
    "\n",
    "aspect_ratio = 8  \n",
    "\n",
    "\n",
    "plt.figure(figsize=(8, aspect_ratio * len(columns_to_plot)))  \n",
    "\n",
    "for i, (col, color) in enumerate(zip(columns_to_plot, colors), 1):\n",
    "    plt.subplot(len(columns_to_plot), 1, i)\n",
    "    sns.boxplot(data=df[col], color='#A95C68') \n",
    "    plt.title(f'Boxplot for {col}')\n",
    "\n",
    "plt.tight_layout() \n",
    "plt.show()"
   ]
  },
  {
   "cell_type": "code",
   "execution_count": 24,
   "id": "c5d20857-5b7f-4b09-9104-5744d925ec8c",
   "metadata": {},
   "outputs": [
    {
     "name": "stdout",
     "output_type": "stream",
     "text": [
      "col min: 1.0\n",
      "col max: 5.0\n",
      "col mean: 3.2787328359822685\n"
     ]
    },
    {
     "data": {
      "image/png": "[encoded data removed]",
      "text/plain": [
       "<Figure size 432x576 with 1 Axes>"
      ]
     },
     "metadata": {
      "needs_background": "light"
     },
     "output_type": "display_data"
    }
   ],
   "source": [
    "#checking for outliers\n",
    "print ('col min:', df['review rate number'].min())\n",
    "print ('col max:', df['review rate number'].max())\n",
    "print ('col mean:', df['review rate number'].mean())\n",
    "\n",
    "columns_to_plot = ['review rate number']\n",
    "\n",
    "aspect_ratio = 8  \n",
    "\n",
    "plt.figure(figsize=(6, aspect_ratio * len(columns_to_plot)))  \n",
    "\n",
    "for i, (col, color) in enumerate(zip(columns_to_plot, colors), 1):\n",
    "    plt.subplot(len(columns_to_plot), 1, i)\n",
    "    sns.boxplot(data=df[col], color='#A95C68') \n",
    "    plt.title(f'Boxplot for {col}')\n",
    "\n",
    "plt.tight_layout() \n",
    "plt.show()"
   ]
  },
  {
   "cell_type": "code",
   "execution_count": 25,
   "id": "8a58941c-9dd7-4edf-95bb-e8ae9a24cc84",
   "metadata": {},
   "outputs": [],
   "source": [
    "#replacing nas with mean\n",
    "df[\"reviews per month\"].fillna(df[\"reviews per month\"].mean(),inplace=True)\n",
    "df[\"review rate number\"].fillna(df[\"review rate number\"].mean(),inplace=True)"
   ]
  },
  {
   "cell_type": "markdown",
   "id": "d66a8722-6a8a-4a10-9b8a-561dea36047d",
   "metadata": {},
   "source": [
    "#### 'last review' \n",
    "This is a date column - to simplify further analysis, it is a good idea to replace dates with categories (old, new, not known) and check dates for logic: the year cannot be more then 2022, this is the scope of the initial data, so if it exsists in dataset, we will categorise it as 'no date'"
   ]
  },
  {
   "cell_type": "code",
   "execution_count": 26,
   "id": "65755600-8d67-4047-b806-445135ad075b",
   "metadata": {},
   "outputs": [
    {
     "name": "stdout",
     "output_type": "stream",
     "text": [
      "Minimum date: 2012-07-11\n",
      "Maximum date: 2058-06-16\n"
     ]
    }
   ],
   "source": [
    "# Convert the 'col1' column to datetime objects\n",
    "df['last review'] = pd.to_datetime(df['last review'], format='%m/%d/%Y')\n",
    "\n",
    "# Find the minimum and maximum dates\n",
    "min_date = df['last review'].min()\n",
    "max_date = df['last review'].max()\n",
    "\n",
    "# Display the results\n",
    "print(f\"Minimum date: {min_date.date()}\")\n",
    "print(f\"Maximum date: {max_date.date()}\")"
   ]
  },
  {
   "cell_type": "code",
   "execution_count": 27,
   "id": "8402c97c-3fcc-4e7e-8bb6-d8a6a966bdce",
   "metadata": {},
   "outputs": [
    {
     "data": {
      "image/png": "[encoded data removed]",
      "text/plain": [
       "<Figure size 720x432 with 1 Axes>"
      ]
     },
     "metadata": {
      "needs_background": "light"
     },
     "output_type": "display_data"
    }
   ],
   "source": [
    "# Grouping by Date and getting the count of IDs\n",
    "date_counts = df.groupby('last review')['id'].count().reset_index()\n",
    "\n",
    "plt.figure(figsize=(10, 6))\n",
    "\n",
    "# Plotting\n",
    "plt.bar(date_counts['last review'], date_counts['id'], color='#AB4928')\n",
    "\n",
    "# Adding labels and title\n",
    "plt.xlabel('Date')\n",
    "plt.ylabel('Count of IDs')\n",
    "plt.title('Count of IDs for Each Date')\n",
    "\n",
    "# Formatting x-axis date labels\n",
    "plt.xticks(rotation=45, ha='right')\n",
    "# Setting y-axis limit\n",
    "plt.ylim(0, 1200)\n",
    "plt.tight_layout()\n",
    "plt.show()"
   ]
  },
  {
   "cell_type": "code",
   "execution_count": 28,
   "id": "eae6f231-bda5-4c7e-acfd-377e9a143175",
   "metadata": {},
   "outputs": [],
   "source": [
    "date_ranges = {\n",
    "    '2012-2015': pd.date_range('2012-01-01', '2015-12-31'),\n",
    "    '2016-2019': pd.date_range('2016-01-01', '2019-12-31'),\n",
    "    '2020-2022': pd.date_range('2020-01-01', '2022-12-31')\n",
    "}\n",
    "\n",
    "# Categorize dates\n",
    "def categorize_date(date):\n",
    "    for range_label, date_range in date_ranges.items():\n",
    "        if date in date_range:\n",
    "            return range_label\n",
    "    return 'no date'\n",
    "\n",
    "df['last review category'] = df['last review'].apply(categorize_date)"
   ]
  },
  {
   "cell_type": "code",
   "execution_count": 29,
   "id": "1c439e11-bb73-486c-a729-b10edac0fdd5",
   "metadata": {},
   "outputs": [
    {
     "name": "stdout",
     "output_type": "stream",
     "text": [
      "2012-2015     2202\n",
      "2016-2019    65031\n",
      "2020-2022    18988\n",
      "no date      15837\n",
      "Name: last review category, dtype: int64\n"
     ]
    }
   ],
   "source": [
    "print(df['last review category'].value_counts().sort_index())"
   ]
  },
  {
   "cell_type": "markdown",
   "id": "76c12e52-d415-48f8-baee-5f91d9032660",
   "metadata": {},
   "source": [
    "#### Last step of data cleaning, recheck of data types\n",
    "All good, let's begin part 2!"
   ]
  },
  {
   "cell_type": "code",
   "execution_count": 30,
   "id": "820c13c4-536f-451d-a5fa-b2d879e165b0",
   "metadata": {},
   "outputs": [
    {
     "data": {
      "text/plain": [
       "id                                         int64\n",
       "NAME                                      object\n",
       "host id                                    int64\n",
       "host_identity_verified                    object\n",
       "host name                                 object\n",
       "neighbourhood                             object\n",
       "lat                                      float64\n",
       "long                                     float64\n",
       "instant_bookable                          object\n",
       "cancellation_policy                       object\n",
       "room type                                 object\n",
       "Construction year                        float64\n",
       "price                                    float64\n",
       "service fee                              float64\n",
       "minimum nights                           float64\n",
       "number of reviews                        float64\n",
       "last review                       datetime64[ns]\n",
       "reviews per month                        float64\n",
       "review rate number                       float64\n",
       "calculated host listings count           float64\n",
       "availability 365                         float64\n",
       "house_rules                               object\n",
       "license                                   object\n",
       "neighbourhood group                       object\n",
       "last review category                      object\n",
       "dtype: object"
      ]
     },
     "execution_count": 30,
     "metadata": {},
     "output_type": "execute_result"
    }
   ],
   "source": [
    "df.dtypes"
   ]
  },
  {
   "cell_type": "markdown",
   "id": "12c63322-7fe4-494d-b346-a5b76885500f",
   "metadata": {},
   "source": [
    "## Part 2. Explanatory analysis + Text Ananlysis\n",
    "\n",
    "In this phase, we embark on a nuanced exploration of the Airbnb dataset, intertwining explanatory and text analyses to unravel hidden narratives. Through this synthesis of quantitative rigor and qualitative intuition, the dataset transforms into a rich tapestry of insights awaiting discovery.\n",
    "\n",
    "#### Questions  \n",
    "1. How many buildings are listed in each neighbourhood group? \n",
    "2. How many reviews are there throughout years?\n",
    "3. How is the review score changing over time for different neighbourhood groups? \n",
    "4. Which words are most common in the 'name of the building'? How are they different for properties with low and high review score?\n",
    "5. Calculate sentiment score based on the name and rules. Diaplay sentimant score of each neighbourhood"
   ]
  },
  {
   "cell_type": "markdown",
   "id": "2b18071e-c17e-40a8-9f95-47a466d409a4",
   "metadata": {},
   "source": [
    "#### Question 1. How many buildings are listed in each neighbourhood group? \n",
    "\n",
    "Starting from the basics, to address your intriguing question about the number of buildings in each neighborhood, the distribution reveals a captivating urban mosaic. Brooklyn and Manhattan emerge as bustling hubs, boasting over 40,000 listings, creating a vibrant tapestry for explorers. Queens, with its diverse offerings, holds around 15,000, while the Bronx and Staten Island, with their distinct charm, feature fewer than 5,000 listings each, inviting the adventurous traveler to uncover hidden gems in these more tranquil corners of New York City."
   ]
  },
  {
   "cell_type": "code",
   "execution_count": 31,
   "id": "a7ffd142-18cd-433c-85e1-2b984b5e92c8",
   "metadata": {},
   "outputs": [
    {
     "data": {
      "image/png": "[encoded data removed]",
      "text/plain": [
       "<Figure size 720x432 with 1 Axes>"
      ]
     },
     "metadata": {
      "needs_background": "light"
     },
     "output_type": "display_data"
    }
   ],
   "source": [
    "# Grouping by Date and getting the count of IDs\n",
    "colors = ['#7B241C', '#CD6155', '#FFC300', '#D38521', '#FF5733']\n",
    "date_counts = df.groupby('neighbourhood group')['id'].count().reset_index()\n",
    "\n",
    "plt.figure(figsize=(10, 6))\n",
    "plt.bar(date_counts['neighbourhood group'], date_counts['id'], color=colors)\n",
    "\n",
    "plt.title('How many buildings are listed in each neighbourhood group?')\n",
    "\n",
    "plt.show()"
   ]
  },
  {
   "cell_type": "markdown",
   "id": "d78b0743-afcc-4a09-954b-0d6ddff33727",
   "metadata": {},
   "source": [
    "#### Question 2. How many reviews are there throughout years?\n",
    "Reviews were on a hype train until 2019 when reality hit hard in 2020, thanks to COVID. The review count took a nosedive, capturing the wild ride of a pandemic year."
   ]
  },
  {
   "cell_type": "code",
   "execution_count": 32,
   "id": "1220a55f-beab-4fb1-884d-325abda6ca2f",
   "metadata": {
    "tags": []
   },
   "outputs": [
    {
     "data": {
      "image/png": "[encoded data removed]",
      "text/plain": [
       "<Figure size 720x432 with 1 Axes>"
      ]
     },
     "metadata": {
      "needs_background": "light"
     },
     "output_type": "display_data"
    }
   ],
   "source": [
    "df['last_review'] = pd.to_datetime(df['last review'])\n",
    "df['year'] = df['last_review'].dt.year\n",
    "\n",
    "# Filter the DataFrame for observations before or equal to 2022\n",
    "df_filtered = df[df['year'] <= 2022]\n",
    "\n",
    "# Count the reviews for each year\n",
    "yearly_review_counts = df_filtered['year'].value_counts().sort_index()\n",
    "\n",
    "# Plot the bar chart\n",
    "plt.figure(figsize=(10, 6))\n",
    "plt.bar(yearly_review_counts.index, yearly_review_counts.values, color='#B2554A')\n",
    "plt.xlabel('Year')\n",
    "plt.ylabel('Number of Reviews')\n",
    "plt.title('Number of Reviews by Year (Up to 2022)')\n",
    "plt.xticks(yearly_review_counts.index)\n",
    "plt.tight_layout()\n",
    "plt.show()"
   ]
  },
  {
   "cell_type": "markdown",
   "id": "c20bd522-a4c3-4ec4-b337-afe8e1902322",
   "metadata": {},
   "source": [
    "#### Question 3. How is the review score changing over time for different neighbourhood groups? \n",
    "\n",
    "As the platform accumulates an increasing number of reviews, an intriguing trend emerges in the evolution of scores across various neighborhood groups. The dynamic landscape of reviews is fostering a gradual convergence of scores, harmonizing the evaluative spectrum between 3.0 and 3.5. This phenomenon suggests a leveling effect, indicating a nuanced equilibrium as neighborhoods receive more comprehensive feedback. "
   ]
  },
  {
   "cell_type": "code",
   "execution_count": 33,
   "id": "758c2b58-68dc-41dd-9d75-2c96188937ca",
   "metadata": {
    "tags": []
   },
   "outputs": [
    {
     "data": {
      "image/png": "[encoded data removed]",
      "text/plain": [
       "<Figure size 720x432 with 1 Axes>"
      ]
     },
     "metadata": {
      "needs_background": "light"
     },
     "output_type": "display_data"
    }
   ],
   "source": [
    "grouped = df[df['last review category'] != 'no date']\n",
    "grouped['year'] = grouped['last review'].dt.year\n",
    "grouped = grouped.groupby(['neighbourhood group', 'year'])['review rate number'].mean().reset_index()\n",
    "\n",
    "# Select neighborhoods and their corresponding colors (adjust as needed)\n",
    "neighborhoods_to_plot = {\n",
    "    'Bronx': '#7B241C',\n",
    "    'Brooklyn': '#CD6155',\n",
    "    'Manhattan': '#FFC300',\n",
    "    'Queens': '#D38521',\n",
    "    'Staten Island': '#FF5733'\n",
    "}\n",
    "\n",
    "# Create a single line graph for all selected neighborhoods\n",
    "plt.figure(figsize=(10, 6))\n",
    "\n",
    "for neighborhood, color in neighborhoods_to_plot.items():\n",
    "    neighborhood_data = grouped[grouped['neighbourhood group'] == neighborhood]\n",
    "    plt.plot(neighborhood_data['year'], neighborhood_data['review rate number'], marker='o', label=neighborhood, color=color)\n",
    "\n",
    "plt.title('How is the review score changing over time for different neighbourhood groups?')\n",
    "plt.xlabel('Year')\n",
    "plt.ylabel('Average Review Score')\n",
    "plt.legend()\n",
    "plt.show()"
   ]
  },
  {
   "cell_type": "markdown",
   "id": "1e7bb7ef-20e3-4d25-b313-d7ed0b64b838",
   "metadata": {},
   "source": [
    "# 4. Which words are most common in the name of the building? How are they different for properties with low and high review score?"
   ]
  },
  {
   "cell_type": "code",
   "execution_count": null,
   "id": "10965b7b-a612-44d1-9b63-9f5c13158c12",
   "metadata": {},
   "outputs": [],
   "source": []
  },
  {
   "cell_type": "code",
   "execution_count": 34,
   "id": "e3746e56-c236-465d-8b03-9ff73ccd4ed7",
   "metadata": {},
   "outputs": [
    {
     "name": "stdout",
     "output_type": "stream",
     "text": [
      "Q1 (25th percentile): 2.0\n",
      "Median (50th percentile): 3.0\n",
      "Q3 (75th percentile): 4.0\n"
     ]
    },
    {
     "data": {
      "image/png": "[encoded data removed]",
      "text/plain": [
       "<Figure size 432x288 with 1 Axes>"
      ]
     },
     "metadata": {
      "needs_background": "light"
     },
     "output_type": "display_data"
    }
   ],
   "source": [
    "\n",
    "# count quartiles for the review score. high score - above 3rd quartile, low - less then 1st quartile\n",
    "\n",
    "data = df['review rate number']\n",
    "\n",
    "# Calculate quartiles\n",
    "q1 = np.percentile(data, 25)\n",
    "median = np.percentile(data, 50)\n",
    "q3 = np.percentile(data, 75)\n",
    "\n",
    "print(\"Q1 (25th percentile):\", q1)\n",
    "print(\"Median (50th percentile):\", median)\n",
    "print(\"Q3 (75th percentile):\", q3)\n",
    "\n",
    "# Count the occurrences of each unique score\n",
    "score_counts = df['review rate number'].value_counts().sort_index()\n",
    "\n",
    "# Extract unique scores and their counts\n",
    "unique_scores = score_counts.index\n",
    "score_frequencies = score_counts.values\n",
    "\n",
    "# Create a bar plot\n",
    "plt.bar(unique_scores, score_frequencies,  color='#B2AF4A')\n",
    "\n",
    "# Add labels and title\n",
    "plt.xlabel('Score')\n",
    "plt.ylabel('Frequency')\n",
    "plt.title('Bar Plot of Score Frequencies')\n",
    "\n",
    "# Show the plot\n",
    "plt.show()"
   ]
  },
  {
   "cell_type": "code",
   "execution_count": 35,
   "id": "cc508b78-72aa-4ed1-b76f-fe212388124b",
   "metadata": {},
   "outputs": [
    {
     "name": "stderr",
     "output_type": "stream",
     "text": [
      "[nltk_data] Downloading package stopwords to\n",
      "[nltk_data]     /Users/marinaromanova/nltk_data...\n",
      "[nltk_data]   Package stopwords is already up-to-date!\n"
     ]
    }
   ],
   "source": [
    "import pandas as pd\n",
    "import string\n",
    "import re\n",
    "import nltk\n",
    "\n",
    "\n",
    "# Assuming df is your DataFrame\n",
    "\n",
    "# Preprocess the 'name' column\n",
    "df['name_clean'] = df['NAME'].astype(str).str.lower()  # Convert to lowercase\n",
    "df['name_clean'] = df['name_clean'].str.translate(str.maketrans('', '', string.punctuation))  # Remove punctuation\n",
    "\n",
    "# Remove numbers\n",
    "df['name_clean'] = df['name_clean'].apply(lambda x: re.sub(r'\\d+', '', x))\n",
    "\n",
    "# Tokenize the 'name' column\n",
    "# nltk.download('punkt')  # Uncomment if not already downloaded\n",
    "df['name_tokens'] = df['name_clean'].apply(word_tokenize)\n",
    "\n",
    "# Filter out common prepositions and stopwords\n",
    "nltk.download('stopwords')  # Download stopwords if not already downloaded\n",
    "stop_words = set(stopwords.words('english'))\n",
    "df['name_tokens'] = df['name_tokens'].apply(lambda x: [word for word in x if word not in stop_words])"
   ]
  },
  {
   "cell_type": "code",
   "execution_count": 37,
   "id": "9bc4bf7d-97b8-420a-a405-7dccb6af17d4",
   "metadata": {
    "tags": []
   },
   "outputs": [
    {
     "data": {
      "image/png": "[encoded data removed]",
      "text/plain": [
       "<Figure size 432x288 with 1 Axes>"
      ]
     },
     "metadata": {
      "needs_background": "light"
     },
     "output_type": "display_data"
    }
   ],
   "source": [
    "# for lower score\n",
    "filtered_df = df[df['review rate number'] < 2]\n",
    "\n",
    "# Flatten the tokenized 'name' column and calculate word frequencies\n",
    "all_tokens = [token for sublist in filtered_df['name_tokens'] for token in sublist]\n",
    "freq_dist = FreqDist(all_tokens)\n",
    "\n",
    "# Get the 10 most frequent words and reverse the order\n",
    "top_words = freq_dist.most_common(20)[::-1]\n",
    "\n",
    "# Display the results in a horizontal bar graph\n",
    "word, frequency = zip(*top_words)\n",
    "plt.barh(word, frequency, color='#B2554A')\n",
    "plt.xlabel('Frequency')\n",
    "plt.ylabel('Words')\n",
    "plt.title('10 Most Frequent Words in \"name\" for \"score\" < 2')\n",
    "plt.tight_layout()\n",
    "plt.show()"
   ]
  },
  {
   "cell_type": "code",
   "execution_count": 38,
   "id": "18d01f16-4641-4b08-bc3b-0b2c6ba99765",
   "metadata": {},
   "outputs": [
    {
     "data": {
      "image/png": "[encoded data removed]",
      "text/plain": [
       "<Figure size 432x288 with 1 Axes>"
      ]
     },
     "metadata": {
      "needs_background": "light"
     },
     "output_type": "display_data"
    }
   ],
   "source": [
    "# for higher score\n",
    "filtered_df = df[df['review rate number'] > 4]\n",
    "\n",
    "# Flatten the tokenized 'name' column and calculate word frequencies\n",
    "all_tokens = [token for sublist in filtered_df['name_tokens'] for token in sublist]\n",
    "freq_dist = FreqDist(all_tokens)\n",
    "\n",
    "# Get the 10 most frequent words and reverse the order\n",
    "top_words = freq_dist.most_common(20)[::-1]\n",
    "\n",
    "# Display the results in a horizontal bar graph\n",
    "word, frequency = zip(*top_words)\n",
    "plt.barh(word, frequency, color='#62B24A')\n",
    "plt.xlabel('Frequency')\n",
    "plt.ylabel('Words')\n",
    "plt.title('10 Most Frequent Words in \"name\" for \"score\" > 4')\n",
    "plt.tight_layout()\n",
    "plt.show()"
   ]
  },
  {
   "cell_type": "code",
   "execution_count": null,
   "id": "5abafb04-86fb-4075-83fc-3249d11765cc",
   "metadata": {},
   "outputs": [],
   "source": [
    "# 5. Calculate sentiment score based on the name and rules. Diaplay sentimant score of each neighbourhood"
   ]
  },
  {
   "cell_type": "code",
   "execution_count": null,
   "id": "c9ebedbe-d5dd-465e-82dc-aaa7bd0d1173",
   "metadata": {
    "tags": []
   },
   "outputs": [],
   "source": [
    "# text preprocessing of 'rules' column\n",
    "df['house_rules_clean'] = df['house_rules'].str.lower()  # Convert to lowercase\n",
    "df['house_rules_clean'] = df['house_rules_clean'].str.translate(str.maketrans('', '', string.punctuation))  # Remove punctuation\n",
    "df['house_rules_clean'] = df['house_rules_clean'].apply(lambda x: re.sub(r'\\d+', '', x))\n",
    "\n",
    "# Define a function to calculate sentiment scores using TextBlob\n",
    "def calculate_sentiment(text):\n",
    "    if pd.notna(text):\n",
    "        analysis = TextBlob(text)\n",
    "        return analysis.sentiment.polarity\n",
    "    else:\n",
    "        return None\n",
    "\n",
    "# Apply the sentiment analysis function to the 'name' and 'rules' columns and store the results in new columns\n",
    "df['name_sentiment'] = df['name_clean'].apply(calculate_sentiment)\n",
    "df['rules_sentiment'] = df['house_rules_clean'].apply(calculate_sentiment)\n",
    "\n",
    "# Calculate the combined sentiment score as the average of 'name_sentiment' and 'rules_sentiment'\n",
    "df['combined_sentiment'] = df.apply(lambda row: row['name_sentiment'] if pd.notna(row['name_sentiment']) else row['rules_sentiment'], axis=1)\n",
    "df.head()"
   ]
  },
  {
   "cell_type": "code",
   "execution_count": null,
   "id": "3b9296af-a401-428e-91e6-bb40e61418da",
   "metadata": {},
   "outputs": [],
   "source": [
    "# Group by Neighbourhood and Calculate Average Score\n",
    "avg_scores = df.groupby('neighbourhood')['combined_sentiment'].mean().reset_index()\n",
    "\n"
   ]
  },
  {
   "cell_type": "code",
   "execution_count": null,
   "id": "9352915d-b832-4a2a-8334-f31dc761c78c",
   "metadata": {},
   "outputs": [],
   "source": [
    "import matplotlib.pyplot as plt\n",
    "\n",
    "# Assuming avg_scores is already calculated as df.groupby('neighbourhood')['combined_sentiment'].mean().reset_index()\n",
    "\n",
    "# Plotting the average sentiment scores\n",
    "plt.figure(figsize=(12, 6))\n",
    "plt.bar(avg_scores['neighbourhood'], avg_scores['combined_sentiment'], color='skyblue')\n",
    "plt.xlabel('Neighbourhood')\n",
    "plt.ylabel('Average Sentiment Score')\n",
    "plt.title('Average Sentiment Scores by Neighbourhood')\n",
    "plt.xticks(rotation=45, ha='right')  # Rotate x-axis labels for better visibility\n",
    "plt.tight_layout()\n",
    "\n",
    "# Display the plot\n",
    "plt.show()\n"
   ]
  },
  {
   "cell_type": "code",
   "execution_count": null,
   "id": "da918c3c-7763-4850-92b8-f7d803271ce8",
   "metadata": {},
   "outputs": [],
   "source": []
  },
  {
   "cell_type": "code",
   "execution_count": null,
   "id": "32b27c32-e091-48b0-a374-5ba6fe81054d",
   "metadata": {},
   "outputs": [],
   "source": []
  },
  {
   "cell_type": "code",
   "execution_count": null,
   "id": "cfcc9f78-9898-41af-8ed7-94fc5a3aec16",
   "metadata": {
    "tags": []
   },
   "outputs": [],
   "source": []
  },
  {
   "cell_type": "code",
   "execution_count": null,
   "id": "67e7e513-5e8e-40a5-a126-1246f8bf73b6",
   "metadata": {
    "tags": []
   },
   "outputs": [],
   "source": []
  },
  {
   "cell_type": "code",
   "execution_count": null,
   "id": "8498601c-d425-4d1c-9711-02b035211ffa",
   "metadata": {},
   "outputs": [],
   "source": [
    "df.head(1)"
   ]
  },
  {
   "cell_type": "code",
   "execution_count": null,
   "id": "10237e56-a5b1-41b3-8e45-1de0d29cd321",
   "metadata": {},
   "outputs": [],
   "source": []
  },
  {
   "cell_type": "code",
   "execution_count": null,
   "id": "09064adc-4fff-4fdd-b064-dabf0cb5d5d0",
   "metadata": {},
   "outputs": [],
   "source": []
  },
  {
   "cell_type": "code",
   "execution_count": null,
   "id": "04d2d029-a7f2-41af-8813-e64b72c23159",
   "metadata": {},
   "outputs": [],
   "source": []
  }
 ],
 "metadata": {
  "kernelspec": {
   "display_name": "Python 3 (ipykernel)",
   "language": "python",
   "name": "python3"
  },
  "language_info": {
   "codemirror_mode": {
    "name": "ipython",
    "version": 3
   },
   "file_extension": ".py",
   "mimetype": "text/x-python",
   "name": "python",
   "nbconvert_exporter": "python",
   "pygments_lexer": "ipython3",
   "version": "3.9.12"
  }
 },
 "nbformat": 4,
 "nbformat_minor": 5
}
